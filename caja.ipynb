{
 "cells": [
  {
   "cell_type": "code",
   "execution_count": 2,
   "metadata": {},
   "outputs": [],
   "source": [
    "sabritas={\"papas\":14,\"doritos\":12,}\n",
    "chetos={\"rojos\":10,\"verdes\":11,\"bolitas\":9,\"garritas\":10}\n",
    "refrescos={\"coca_de_litro\":25,\"peps\":23,\"7up\":21,\"manazanita\":27}\n"
   ]
  },
  {
   "cell_type": "code",
   "execution_count": 21,
   "metadata": {},
   "outputs": [
    {
     "name": "stdout",
     "output_type": "stream",
     "text": [
      "bienvenido\n"
     ]
    },
    {
     "name": "stdout",
     "output_type": "stream",
     "text": [
      "el total de la cuenta es :50\n"
     ]
    }
   ],
   "source": [
    "print(\"bienvenido\")\n",
    "total=0\n",
    "item=input(\"ingrese el producto\")\n",
    "while item !='':\n",
    "    if item in sabritas:\n",
    "        cuenta=sabritas[item]\n",
    "    elif item in chetos:\n",
    "        cuenta=chetos[item]\n",
    "    elif  item in refrescos:\n",
    "        cuenta=refrescos[item]\n",
    "    total+= cuenta\n",
    "    item=input(\"ingrese el producto\")\n",
    "print(\"el total de la cuenta es :\"+str(total))\n"
   ]
  },
  {
   "cell_type": "code",
   "execution_count": 20,
   "metadata": {},
   "outputs": [],
   "source": [
    "item=input()"
   ]
  },
  {
   "cell_type": "code",
   "execution_count": 15,
   "metadata": {},
   "outputs": [
    {
     "data": {
      "text/plain": [
       "''"
      ]
     },
     "execution_count": 15,
     "metadata": {},
     "output_type": "execute_result"
    }
   ],
   "source": [
    "item "
   ]
  },
  {
   "cell_type": "code",
   "execution_count": 10,
   "metadata": {},
   "outputs": [],
   "source": [
    "cuenta=sabritas[item]"
   ]
  },
  {
   "cell_type": "code",
   "execution_count": null,
   "metadata": {},
   "outputs": [],
   "source": []
  }
 ],
 "metadata": {
  "kernelspec": {
   "display_name": "Python 3",
   "language": "python",
   "name": "python3"
  },
  "language_info": {
   "codemirror_mode": {
    "name": "ipython",
    "version": 3
   },
   "file_extension": ".py",
   "mimetype": "text/x-python",
   "name": "python",
   "nbconvert_exporter": "python",
   "pygments_lexer": "ipython3",
   "version": "3.11.5"
  },
  "orig_nbformat": 4
 },
 "nbformat": 4,
 "nbformat_minor": 2
}
